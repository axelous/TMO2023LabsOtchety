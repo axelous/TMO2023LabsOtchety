{
 "cells": [
  {
   "cell_type": "markdown",
   "id": "1dc68a3f",
   "metadata": {},
   "source": [
    "# Абуховский Иван, ИУ5-61Б\n",
    "## РК1 по ТМО "
   ]
  },
  {
   "attachments": {},
   "cell_type": "markdown",
   "id": "00d63a5f",
   "metadata": {},
   "source": [
    "### Для выполнения задачи проведения корреляционного анализа данных был представлен набор данных sklearn iris dataset"
   ]
  },
  {
   "cell_type": "code",
   "execution_count": 1,
   "id": "feb09ada",
   "metadata": {},
   "outputs": [],
   "source": [
    "import numpy as np\n",
    "import pandas as pd\n",
    "import itertools\n",
    "import matplotlib.pyplot as plt\n",
    "import seaborn as sns\n",
    "import sklearn"
   ]
  },
  {
   "cell_type": "code",
   "execution_count": 2,
   "id": "9fbea1e9",
   "metadata": {},
   "outputs": [],
   "source": [
    "from sklearn.datasets import load_iris\n",
    "iris = load_iris()"
   ]
  },
  {
   "cell_type": "code",
   "execution_count": 3,
   "id": "449ca203",
   "metadata": {},
   "outputs": [
    {
     "data": {
      "text/plain": [
       "(150, 4)"
      ]
     },
     "execution_count": 3,
     "metadata": {},
     "output_type": "execute_result"
    }
   ],
   "source": [
    "iris.data.shape"
   ]
  },
  {
   "cell_type": "code",
   "execution_count": 5,
   "id": "e12cf1b4",
   "metadata": {},
   "outputs": [
    {
     "data": {
      "text/plain": [
       "['sepal length (cm)',\n",
       " 'sepal width (cm)',\n",
       " 'petal length (cm)',\n",
       " 'petal width (cm)']"
      ]
     },
     "execution_count": 5,
     "metadata": {},
     "output_type": "execute_result"
    }
   ],
   "source": [
    "iris.feature_names"
   ]
  },
  {
   "cell_type": "markdown",
   "id": "baf458f8",
   "metadata": {},
   "source": [
    "### Создадим датафрейм"
   ]
  },
  {
   "cell_type": "code",
   "execution_count": 6,
   "id": "30f25866",
   "metadata": {},
   "outputs": [
    {
     "data": {
      "text/html": [
       "<div>\n",
       "<style scoped>\n",
       "    .dataframe tbody tr th:only-of-type {\n",
       "        vertical-align: middle;\n",
       "    }\n",
       "\n",
       "    .dataframe tbody tr th {\n",
       "        vertical-align: top;\n",
       "    }\n",
       "\n",
       "    .dataframe thead th {\n",
       "        text-align: right;\n",
       "    }\n",
       "</style>\n",
       "<table border=\"1\" class=\"dataframe\">\n",
       "  <thead>\n",
       "    <tr style=\"text-align: right;\">\n",
       "      <th></th>\n",
       "      <th>sepal length (cm)</th>\n",
       "      <th>sepal width (cm)</th>\n",
       "      <th>petal length (cm)</th>\n",
       "      <th>petal width (cm)</th>\n",
       "    </tr>\n",
       "  </thead>\n",
       "  <tbody>\n",
       "    <tr>\n",
       "      <th>0</th>\n",
       "      <td>5.1</td>\n",
       "      <td>3.5</td>\n",
       "      <td>1.4</td>\n",
       "      <td>0.2</td>\n",
       "    </tr>\n",
       "    <tr>\n",
       "      <th>1</th>\n",
       "      <td>4.9</td>\n",
       "      <td>3.0</td>\n",
       "      <td>1.4</td>\n",
       "      <td>0.2</td>\n",
       "    </tr>\n",
       "    <tr>\n",
       "      <th>2</th>\n",
       "      <td>4.7</td>\n",
       "      <td>3.2</td>\n",
       "      <td>1.3</td>\n",
       "      <td>0.2</td>\n",
       "    </tr>\n",
       "    <tr>\n",
       "      <th>3</th>\n",
       "      <td>4.6</td>\n",
       "      <td>3.1</td>\n",
       "      <td>1.5</td>\n",
       "      <td>0.2</td>\n",
       "    </tr>\n",
       "    <tr>\n",
       "      <th>4</th>\n",
       "      <td>5.0</td>\n",
       "      <td>3.6</td>\n",
       "      <td>1.4</td>\n",
       "      <td>0.2</td>\n",
       "    </tr>\n",
       "  </tbody>\n",
       "</table>\n",
       "</div>"
      ],
      "text/plain": [
       "   sepal length (cm)  sepal width (cm)  petal length (cm)  petal width (cm)\n",
       "0                5.1               3.5                1.4               0.2\n",
       "1                4.9               3.0                1.4               0.2\n",
       "2                4.7               3.2                1.3               0.2\n",
       "3                4.6               3.1                1.5               0.2\n",
       "4                5.0               3.6                1.4               0.2"
      ]
     },
     "execution_count": 6,
     "metadata": {},
     "output_type": "execute_result"
    }
   ],
   "source": [
    "idf = pd.DataFrame(iris.data, columns = iris.feature_names)\n",
    "idf.head()"
   ]
  },
  {
   "cell_type": "code",
   "execution_count": 7,
   "id": "22f92fd9",
   "metadata": {},
   "outputs": [
    {
     "name": "stdout",
     "output_type": "stream",
     "text": [
      "<class 'pandas.core.frame.DataFrame'>\n",
      "RangeIndex: 150 entries, 0 to 149\n",
      "Data columns (total 4 columns):\n",
      " #   Column             Non-Null Count  Dtype  \n",
      "---  ------             --------------  -----  \n",
      " 0   sepal length (cm)  150 non-null    float64\n",
      " 1   sepal width (cm)   150 non-null    float64\n",
      " 2   petal length (cm)  150 non-null    float64\n",
      " 3   petal width (cm)   150 non-null    float64\n",
      "dtypes: float64(4)\n",
      "memory usage: 4.8 KB\n"
     ]
    }
   ],
   "source": [
    "idf.info()"
   ]
  },
  {
   "cell_type": "markdown",
   "id": "172b9c53",
   "metadata": {},
   "source": [
    "### Все поля - числовые\n",
    "### Проверим наличие пропусков"
   ]
  },
  {
   "cell_type": "code",
   "execution_count": 8,
   "id": "a87c551f",
   "metadata": {},
   "outputs": [
    {
     "data": {
      "text/plain": [
       "sepal length (cm)    0\n",
       "sepal width (cm)     0\n",
       "petal length (cm)    0\n",
       "petal width (cm)     0\n",
       "dtype: int64"
      ]
     },
     "execution_count": 8,
     "metadata": {},
     "output_type": "execute_result"
    }
   ],
   "source": [
    "idf.isna().sum()"
   ]
  },
  {
   "cell_type": "markdown",
   "id": "77a91151",
   "metadata": {},
   "source": [
    "### Следовательно, пропуски отсутствуют\n",
    "### Построим диаграмму рассеяния для колонок sepal width и petal width"
   ]
  },
  {
   "cell_type": "code",
   "execution_count": 11,
   "id": "c3869a92",
   "metadata": {},
   "outputs": [
    {
     "data": {
      "text/plain": [
       "<AxesSubplot:xlabel='sepal width (cm)', ylabel='petal width (cm)'>"
      ]
     },
     "execution_count": 11,
     "metadata": {},
     "output_type": "execute_result"
    },
    {
     "data": {
      "image/png": "[encoded data removed]",
      "text/plain": [
       "<Figure size 640x480 with 1 Axes>"
      ]
     },
     "metadata": {},
     "output_type": "display_data"
    }
   ],
   "source": [
    "sns.scatterplot(data=idf, x=\"sepal width (cm)\", y=\"petal width (cm)\")"
   ]
  },
  {
   "cell_type": "markdown",
   "id": "afff126e",
   "metadata": {},
   "source": [
    "### Для визуализации корелляционной матрицы построим тепловую карту"
   ]
  },
  {
   "cell_type": "code",
   "execution_count": 14,
   "id": "20ba8887",
   "metadata": {},
   "outputs": [
    {
     "data": {
      "image/png": "[encoded data removed]",
      "text/plain": [
       "<Figure size 640x480 with 2 Axes>"
      ]
     },
     "metadata": {},
     "output_type": "display_data"
    }
   ],
   "source": [
    "dataplot = sns.heatmap(idf.corr(), cmap = \"Greens\", annot = True)"
   ]
  },
  {
   "attachments": {},
   "cell_type": "markdown",
   "id": "e4043c56",
   "metadata": {},
   "source": [
    "### Наибольшую зависимость можно наблюдать между столбцами \"Наиболее сильную зависимость можно заметить между переменными \"petal length (cm)\" и \"petal width (cm)\", а также между \"sepal length (cm)\" и \"petal length (cm)\" и \"sepal length (cm)\" и \"petal width (cm)\". Эти признаки будут наиболее информативными при построении моделей машинного обучения.  \n",
    "## Таким образом, на основе признаков \"petal length (cm)\", \"petal width (cm)\", \"sepal length (cm)\" могут быть построены модели машинного обучения.  "
   ]
  },
  {
   "cell_type": "markdown",
   "id": "a4a1b9bd",
   "metadata": {},
   "source": [
    "## Так как в представленном датасете не были обнаружены пропуски, возьмем дополнительный датасет, содержащий пропуски.  "
   ]
  },
  {
   "cell_type": "markdown",
   "id": "e966b7a6",
   "metadata": {},
   "source": [
    "### Для этого был взят набор данных со статистикой киберспортивных команд из Overwatch League"
   ]
  },
  {
   "cell_type": "code",
   "execution_count": 15,
   "id": "946c932b",
   "metadata": {},
   "outputs": [],
   "source": [
    "df = pd.read_csv(\"owl-with-odds.csv\")"
   ]
  },
  {
   "cell_type": "code",
   "execution_count": 18,
   "id": "0a04e950",
   "metadata": {
    "scrolled": true
   },
   "outputs": [
    {
     "data": {
      "text/html": [
       "<div>\n",
       "<style scoped>\n",
       "    .dataframe tbody tr th:only-of-type {\n",
       "        vertical-align: middle;\n",
       "    }\n",
       "\n",
       "    .dataframe tbody tr th {\n",
       "        vertical-align: top;\n",
       "    }\n",
       "\n",
       "    .dataframe thead th {\n",
       "        text-align: right;\n",
       "    }\n",
       "</style>\n",
       "<table border=\"1\" class=\"dataframe\">\n",
       "  <thead>\n",
       "    <tr style=\"text-align: right;\">\n",
       "      <th></th>\n",
       "      <th>Unnamed: 0.1</th>\n",
       "      <th>Unnamed: 0</th>\n",
       "      <th>id</th>\n",
       "      <th>team_one</th>\n",
       "      <th>team_two</th>\n",
       "      <th>stage</th>\n",
       "      <th>winner</th>\n",
       "      <th>date</th>\n",
       "      <th>corona_virus_isolation</th>\n",
       "      <th>t1_wins_season</th>\n",
       "      <th>...</th>\n",
       "      <th>t2_win_percent_last_20</th>\n",
       "      <th>t1_place_last_season</th>\n",
       "      <th>t2_place_last_season</th>\n",
       "      <th>t1_wins_vs_t2</th>\n",
       "      <th>t1_losses_vs_t2</th>\n",
       "      <th>t1_matches_vs_t2</th>\n",
       "      <th>t1_win_percent_vs_t2</th>\n",
       "      <th>winner_label</th>\n",
       "      <th>t1_odds</th>\n",
       "      <th>t2_odds</th>\n",
       "    </tr>\n",
       "  </thead>\n",
       "  <tbody>\n",
       "    <tr>\n",
       "      <th>0</th>\n",
       "      <td>0</td>\n",
       "      <td>0</td>\n",
       "      <td>10223</td>\n",
       "      <td>Los Angeles Valiant</td>\n",
       "      <td>San Francisco Shock</td>\n",
       "      <td>Overwatch League - Stage 1</td>\n",
       "      <td>Los Angeles Valiant</td>\n",
       "      <td>1/11/2018</td>\n",
       "      <td>False</td>\n",
       "      <td>0.0</td>\n",
       "      <td>...</td>\n",
       "      <td>NaN</td>\n",
       "      <td>NaN</td>\n",
       "      <td>NaN</td>\n",
       "      <td>0</td>\n",
       "      <td>0</td>\n",
       "      <td>0</td>\n",
       "      <td>NaN</td>\n",
       "      <td>0</td>\n",
       "      <td>NaN</td>\n",
       "      <td>NaN</td>\n",
       "    </tr>\n",
       "    <tr>\n",
       "      <th>1</th>\n",
       "      <td>1</td>\n",
       "      <td>1</td>\n",
       "      <td>10224</td>\n",
       "      <td>Los Angeles Gladiators</td>\n",
       "      <td>Shanghai Dragons</td>\n",
       "      <td>Overwatch League - Stage 1</td>\n",
       "      <td>Los Angeles Gladiators</td>\n",
       "      <td>1/11/2018</td>\n",
       "      <td>False</td>\n",
       "      <td>0.0</td>\n",
       "      <td>...</td>\n",
       "      <td>NaN</td>\n",
       "      <td>NaN</td>\n",
       "      <td>NaN</td>\n",
       "      <td>0</td>\n",
       "      <td>0</td>\n",
       "      <td>0</td>\n",
       "      <td>NaN</td>\n",
       "      <td>0</td>\n",
       "      <td>-370</td>\n",
       "      <td>276</td>\n",
       "    </tr>\n",
       "    <tr>\n",
       "      <th>2</th>\n",
       "      <td>2</td>\n",
       "      <td>2</td>\n",
       "      <td>10225</td>\n",
       "      <td>Seoul Dynasty</td>\n",
       "      <td>Dallas Fuel</td>\n",
       "      <td>Overwatch League - Stage 1</td>\n",
       "      <td>Seoul Dynasty</td>\n",
       "      <td>1/11/2018</td>\n",
       "      <td>False</td>\n",
       "      <td>0.0</td>\n",
       "      <td>...</td>\n",
       "      <td>NaN</td>\n",
       "      <td>NaN</td>\n",
       "      <td>NaN</td>\n",
       "      <td>0</td>\n",
       "      <td>0</td>\n",
       "      <td>0</td>\n",
       "      <td>NaN</td>\n",
       "      <td>0</td>\n",
       "      <td>-588</td>\n",
       "      <td>413</td>\n",
       "    </tr>\n",
       "    <tr>\n",
       "      <th>3</th>\n",
       "      <td>3</td>\n",
       "      <td>3</td>\n",
       "      <td>10226</td>\n",
       "      <td>Florida Mayhem</td>\n",
       "      <td>London Spitfire</td>\n",
       "      <td>Overwatch League - Stage 1</td>\n",
       "      <td>London Spitfire</td>\n",
       "      <td>1/11/2018</td>\n",
       "      <td>False</td>\n",
       "      <td>0.0</td>\n",
       "      <td>...</td>\n",
       "      <td>NaN</td>\n",
       "      <td>NaN</td>\n",
       "      <td>NaN</td>\n",
       "      <td>0</td>\n",
       "      <td>0</td>\n",
       "      <td>0</td>\n",
       "      <td>NaN</td>\n",
       "      <td>1</td>\n",
       "      <td>652</td>\n",
       "      <td>-1667</td>\n",
       "    </tr>\n",
       "    <tr>\n",
       "      <th>4</th>\n",
       "      <td>4</td>\n",
       "      <td>4</td>\n",
       "      <td>10227</td>\n",
       "      <td>Houston Outlaws</td>\n",
       "      <td>Philadelphia Fusion</td>\n",
       "      <td>Overwatch League - Stage 1</td>\n",
       "      <td>Philadelphia Fusion</td>\n",
       "      <td>1/11/2018</td>\n",
       "      <td>False</td>\n",
       "      <td>0.0</td>\n",
       "      <td>...</td>\n",
       "      <td>NaN</td>\n",
       "      <td>NaN</td>\n",
       "      <td>NaN</td>\n",
       "      <td>0</td>\n",
       "      <td>0</td>\n",
       "      <td>0</td>\n",
       "      <td>NaN</td>\n",
       "      <td>1</td>\n",
       "      <td>-161</td>\n",
       "      <td>143</td>\n",
       "    </tr>\n",
       "  </tbody>\n",
       "</table>\n",
       "<p>5 rows × 58 columns</p>\n",
       "</div>"
      ],
      "text/plain": [
       "   Unnamed: 0.1  Unnamed: 0     id                team_one  \\\n",
       "0             0           0  10223     Los Angeles Valiant   \n",
       "1             1           1  10224  Los Angeles Gladiators   \n",
       "2             2           2  10225           Seoul Dynasty   \n",
       "3             3           3  10226          Florida Mayhem   \n",
       "4             4           4  10227         Houston Outlaws   \n",
       "\n",
       "              team_two                       stage                  winner  \\\n",
       "0  San Francisco Shock  Overwatch League - Stage 1     Los Angeles Valiant   \n",
       "1     Shanghai Dragons  Overwatch League - Stage 1  Los Angeles Gladiators   \n",
       "2          Dallas Fuel  Overwatch League - Stage 1           Seoul Dynasty   \n",
       "3      London Spitfire  Overwatch League - Stage 1         London Spitfire   \n",
       "4  Philadelphia Fusion  Overwatch League - Stage 1     Philadelphia Fusion   \n",
       "\n",
       "        date  corona_virus_isolation  t1_wins_season  ...  \\\n",
       "0  1/11/2018                   False             0.0  ...   \n",
       "1  1/11/2018                   False             0.0  ...   \n",
       "2  1/11/2018                   False             0.0  ...   \n",
       "3  1/11/2018                   False             0.0  ...   \n",
       "4  1/11/2018                   False             0.0  ...   \n",
       "\n",
       "   t2_win_percent_last_20  t1_place_last_season  t2_place_last_season  \\\n",
       "0                     NaN                   NaN                   NaN   \n",
       "1                     NaN                   NaN                   NaN   \n",
       "2                     NaN                   NaN                   NaN   \n",
       "3                     NaN                   NaN                   NaN   \n",
       "4                     NaN                   NaN                   NaN   \n",
       "\n",
       "   t1_wins_vs_t2  t1_losses_vs_t2  t1_matches_vs_t2  t1_win_percent_vs_t2  \\\n",
       "0              0                0                 0                   NaN   \n",
       "1              0                0                 0                   NaN   \n",
       "2              0                0                 0                   NaN   \n",
       "3              0                0                 0                   NaN   \n",
       "4              0                0                 0                   NaN   \n",
       "\n",
       "   winner_label  t1_odds  t2_odds  \n",
       "0             0      NaN      NaN  \n",
       "1             0     -370      276  \n",
       "2             0     -588      413  \n",
       "3             1      652    -1667  \n",
       "4             1     -161      143  \n",
       "\n",
       "[5 rows x 58 columns]"
      ]
     },
     "execution_count": 18,
     "metadata": {},
     "output_type": "execute_result"
    }
   ],
   "source": [
    "df.head()"
   ]
  },
  {
   "cell_type": "markdown",
   "id": "5133f218",
   "metadata": {},
   "source": [
    "### Проверим наличие пропусков"
   ]
  },
  {
   "cell_type": "code",
   "execution_count": 19,
   "id": "4359defb",
   "metadata": {},
   "outputs": [
    {
     "data": {
      "text/plain": [
       "Unnamed: 0.1                0\n",
       "Unnamed: 0                  0\n",
       "id                          0\n",
       "team_one                    0\n",
       "team_two                    0\n",
       "stage                       0\n",
       "winner                      0\n",
       "date                        1\n",
       "corona_virus_isolation      0\n",
       "t1_wins_season              1\n",
       "t1_losses_season            1\n",
       "t2_wins_season              1\n",
       "t2_losses_season            1\n",
       "t1_matches_season           1\n",
       "t2_matches_season           1\n",
       "t1_win_percent_season       1\n",
       "t2_win_percent_season       1\n",
       "t1_wins_alltime             1\n",
       "t1_losses_alltime           1\n",
       "t2_wins_alltime             1\n",
       "t2_losses_alltime           1\n",
       "t1_matches_alltime          1\n",
       "t2_matches_alltime          1\n",
       "t1_win_percent_alltime      1\n",
       "t2_win_percent_alltime      1\n",
       "t1_wins_last_3             35\n",
       "t1_losses_last_3           35\n",
       "t2_wins_last_3             30\n",
       "t2_losses_last_3           30\n",
       "t1_win_percent_last_3      35\n",
       "t2_win_percent_last_3      30\n",
       "t1_wins_last_5             51\n",
       "t1_losses_last_5           51\n",
       "t2_wins_last_5             53\n",
       "t2_losses_last_5           53\n",
       "t1_win_percent_last_5      51\n",
       "t2_win_percent_last_5      53\n",
       "t1_wins_last_10           101\n",
       "t1_losses_last_10         101\n",
       "t2_wins_last_10           102\n",
       "t2_losses_last_10         102\n",
       "t1_win_percent_last_10    101\n",
       "t2_win_percent_last_10    102\n",
       "t1_wins_last_20           202\n",
       "t1_losses_last_20         202\n",
       "t2_wins_last_20           201\n",
       "t2_losses_last_20         201\n",
       "t1_win_percent_last_20    202\n",
       "t2_win_percent_last_20    201\n",
       "t1_place_last_season      384\n",
       "t2_place_last_season      392\n",
       "t1_wins_vs_t2               0\n",
       "t1_losses_vs_t2             0\n",
       "t1_matches_vs_t2            0\n",
       "t1_win_percent_vs_t2      191\n",
       "winner_label                0\n",
       "t1_odds                   119\n",
       "t2_odds                   119\n",
       "dtype: int64"
      ]
     },
     "execution_count": 19,
     "metadata": {},
     "output_type": "execute_result"
    }
   ],
   "source": [
    "df.isna().sum()"
   ]
  },
  {
   "cell_type": "markdown",
   "id": "302e1d1f",
   "metadata": {},
   "source": [
    "### Пропуски приутствуют, удалим их"
   ]
  },
  {
   "cell_type": "code",
   "execution_count": 20,
   "id": "7c671fa4",
   "metadata": {},
   "outputs": [],
   "source": [
    "df = df.dropna()"
   ]
  },
  {
   "cell_type": "code",
   "execution_count": 22,
   "id": "c75e033f",
   "metadata": {},
   "outputs": [
    {
     "data": {
      "text/plain": [
       "Unnamed: 0.1              0\n",
       "Unnamed: 0                0\n",
       "id                        0\n",
       "team_one                  0\n",
       "team_two                  0\n",
       "stage                     0\n",
       "winner                    0\n",
       "date                      0\n",
       "corona_virus_isolation    0\n",
       "t1_wins_season            0\n",
       "t1_losses_season          0\n",
       "t2_wins_season            0\n",
       "t2_losses_season          0\n",
       "t1_matches_season         0\n",
       "t2_matches_season         0\n",
       "t1_win_percent_season     0\n",
       "t2_win_percent_season     0\n",
       "t1_wins_alltime           0\n",
       "t1_losses_alltime         0\n",
       "t2_wins_alltime           0\n",
       "t2_losses_alltime         0\n",
       "t1_matches_alltime        0\n",
       "t2_matches_alltime        0\n",
       "t1_win_percent_alltime    0\n",
       "t2_win_percent_alltime    0\n",
       "t1_wins_last_3            0\n",
       "t1_losses_last_3          0\n",
       "t2_wins_last_3            0\n",
       "t2_losses_last_3          0\n",
       "t1_win_percent_last_3     0\n",
       "t2_win_percent_last_3     0\n",
       "t1_wins_last_5            0\n",
       "t1_losses_last_5          0\n",
       "t2_wins_last_5            0\n",
       "t2_losses_last_5          0\n",
       "t1_win_percent_last_5     0\n",
       "t2_win_percent_last_5     0\n",
       "t1_wins_last_10           0\n",
       "t1_losses_last_10         0\n",
       "t2_wins_last_10           0\n",
       "t2_losses_last_10         0\n",
       "t1_win_percent_last_10    0\n",
       "t2_win_percent_last_10    0\n",
       "t1_wins_last_20           0\n",
       "t1_losses_last_20         0\n",
       "t2_wins_last_20           0\n",
       "t2_losses_last_20         0\n",
       "t1_win_percent_last_20    0\n",
       "t2_win_percent_last_20    0\n",
       "t1_place_last_season      0\n",
       "t2_place_last_season      0\n",
       "t1_wins_vs_t2             0\n",
       "t1_losses_vs_t2           0\n",
       "t1_matches_vs_t2          0\n",
       "t1_win_percent_vs_t2      0\n",
       "winner_label              0\n",
       "t1_odds                   0\n",
       "t2_odds                   0\n",
       "dtype: int64"
      ]
     },
     "execution_count": 22,
     "metadata": {},
     "output_type": "execute_result"
    }
   ],
   "source": [
    "df.isna().sum()"
   ]
  },
  {
   "cell_type": "markdown",
   "id": "6a504ccd",
   "metadata": {},
   "source": [
    "#### Пропусков больше нет :)"
   ]
  }
 ],
 "metadata": {
  "kernelspec": {
   "display_name": "Python 3 (ipykernel)",
   "language": "python",
   "name": "python3"
  },
  "language_info": {
   "codemirror_mode": {
    "name": "ipython",
    "version": 3
   },
   "file_extension": ".py",
   "mimetype": "text/x-python",
   "name": "python",
   "nbconvert_exporter": "python",
   "pygments_lexer": "ipython3",
   "version": "3.9.13"
  }
 },
 "nbformat": 4,
 "nbformat_minor": 5
}
