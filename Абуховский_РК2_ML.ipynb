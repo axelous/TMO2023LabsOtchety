{
 "cells": [
  {
   "cell_type": "markdown",
   "id": "ce95b82b",
   "metadata": {},
   "source": [
    "# Абуховский Иван Александрович, ИУ5-61Б \n",
    "# РК2 ТМО, Вариант 1"
   ]
  },
  {
   "cell_type": "markdown",
   "id": "94d7e706",
   "metadata": {},
   "source": [
    "## Задание\n",
    "Для заданного набора данных (по варианту - sklearn iris) постройте модели классификации или регрессии (в зависимости от конкретной задачи, рассматриваемой в наборе данных). Для построения моделей используйте методы 1 и 2 (по группе  - Линейная/логистическая регрессия и Случайный лес). Оцените качество моделей на основе подходящих метрик качества (не менее двух метрик)."
   ]
  },
  {
   "cell_type": "markdown",
   "id": "27fa007b",
   "metadata": {},
   "source": [
    "## Выполнение"
   ]
  },
  {
   "cell_type": "markdown",
   "id": "b9f7404c",
   "metadata": {},
   "source": [
    "### Загрузим датасет и необходимые библиотеки"
   ]
  },
  {
   "cell_type": "code",
   "execution_count": 1,
   "id": "a5cc3a9b",
   "metadata": {},
   "outputs": [],
   "source": [
    "from sklearn.datasets import load_iris\n",
    "iris = load_iris()\n",
    "x = iris.data\n",
    "y = iris.target"
   ]
  },
  {
   "cell_type": "code",
   "execution_count": 2,
   "id": "54b8d77f",
   "metadata": {},
   "outputs": [],
   "source": [
    "from sklearn.linear_model import LinearRegression\n",
    "from sklearn.ensemble import RandomForestClassifier\n",
    "from sklearn.model_selection import train_test_split\n",
    "from sklearn.metrics import mean_absolute_error, r2_score"
   ]
  },
  {
   "cell_type": "markdown",
   "id": "20130ded",
   "metadata": {},
   "source": [
    "### Масштабируем его с помощью StandardScaler "
   ]
  },
  {
   "cell_type": "code",
   "execution_count": 3,
   "id": "b1a62589",
   "metadata": {},
   "outputs": [],
   "source": [
    "from sklearn.preprocessing import StandardScaler\n",
    "scaler = StandardScaler()\n",
    "x = scaler.fit_transform(x)"
   ]
  },
  {
   "cell_type": "markdown",
   "id": "0b1856ef",
   "metadata": {},
   "source": [
    "### Разделим датасет на обучающую и тестовую выборки"
   ]
  },
  {
   "cell_type": "code",
   "execution_count": 4,
   "id": "dec0d4a6",
   "metadata": {},
   "outputs": [],
   "source": [
    "x_train, x_test, y_train, y_test = train_test_split(x, y, test_size = 0.3)"
   ]
  },
  {
   "cell_type": "markdown",
   "id": "078c8001",
   "metadata": {},
   "source": [
    "### Создадим и обучим модели Случайного леса и Линейной регресии"
   ]
  },
  {
   "cell_type": "code",
   "execution_count": 5,
   "id": "a02b92d7",
   "metadata": {},
   "outputs": [],
   "source": [
    "rand_for = RandomForestClassifier(n_estimators = 100)\n",
    "rand_for.fit(x_train, y_train)\n",
    "rand_for_pred = rand_for.predict(x_test)\n",
    "\n",
    "lin_regr = LinearRegression()\n",
    "lin_regr.fit(x_train, y_train)\n",
    "lin_regr_pred = lin_regr.predict(x_test)"
   ]
  },
  {
   "cell_type": "markdown",
   "id": "678fe552",
   "metadata": {},
   "source": [
    "### Сравним метрики качества средней абсолютной ошибки и коэффициент детерминации"
   ]
  },
  {
   "cell_type": "code",
   "execution_count": 6,
   "id": "229a6c0a",
   "metadata": {},
   "outputs": [],
   "source": [
    "lin_regr_mae = mean_absolute_error(y_test, lin_regr_pred)\n",
    "rand_for_mae = mean_absolute_error(y_test, rand_for_pred)\n",
    "\n",
    "lin_regr_r2 = r2_score(y_test, lin_regr_pred)\n",
    "rand_for_r2 = r2_score(y_test, rand_for_pred)"
   ]
  },
  {
   "cell_type": "code",
   "execution_count": 8,
   "id": "d9bfc9e4",
   "metadata": {},
   "outputs": [
    {
     "name": "stdout",
     "output_type": "stream",
     "text": [
      "Линейная регрессия\n",
      "MAE :  0.17848925260935825\n",
      "R2 :  0.9073203947869973\n",
      "Случайный лес\n",
      "MAE :  0.06666666666666667\n",
      "R2 :  0.8897058823529411\n"
     ]
    }
   ],
   "source": [
    "print(\"Линейная регрессия\")\n",
    "print(\"MAE : \", lin_regr_mae)\n",
    "print(\"R2 : \", lin_regr_r2)\n",
    "\n",
    "print(\"Случайный лес\")\n",
    "print(\"MAE : \", rand_for_mae)\n",
    "print(\"R2 : \", rand_for_r2)"
   ]
  },
  {
   "cell_type": "markdown",
   "id": "af679f72",
   "metadata": {},
   "source": [
    "### Делаем вывод, что линейная регрессия показывает лучшие показатели коэффициента детерминации, а случайный лес - средней абсолютной ошибки"
   ]
  }
 ],
 "metadata": {
  "kernelspec": {
   "display_name": "Python 3 (ipykernel)",
   "language": "python",
   "name": "python3"
  },
  "language_info": {
   "codemirror_mode": {
    "name": "ipython",
    "version": 3
   },
   "file_extension": ".py",
   "mimetype": "text/x-python",
   "name": "python",
   "nbconvert_exporter": "python",
   "pygments_lexer": "ipython3",
   "version": "3.9.13"
  }
 },
 "nbformat": 4,
 "nbformat_minor": 5
}
